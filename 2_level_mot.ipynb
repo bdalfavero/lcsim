{
 "cells": [
  {
   "cell_type": "code",
   "execution_count": 4,
   "id": "71372940",
   "metadata": {},
   "outputs": [],
   "source": [
    "import pylcp\n",
    "import numpy as np\n",
    "import matplotlib.pyplot as plt\n",
    "from pylcp.common import progressBar\n",
    "import scipy.stats as stats\n",
    "from scipy.constants import hbar\n",
    "from scipy.constants import k as kb\n",
    "from math import sqrt, cos, sin, exp\n",
    "import time"
   ]
  },
  {
   "cell_type": "markdown",
   "id": "dc6a3359",
   "metadata": {},
   "source": [
    "### Atomic parameters\n",
    "\n",
    "Get the properties of the atom we will use for this simulation."
   ]
  },
  {
   "cell_type": "code",
   "execution_count": 5,
   "id": "22052c8f",
   "metadata": {},
   "outputs": [
    {
     "name": "stdout",
     "output_type": "stream",
     "text": [
      "omega = 3.910164e+14\n",
      "isat = 1.750322e+00\n",
      "gamma = 3.792188e+07\n",
      "mass = 1.437784e+04\n"
     ]
    }
   ],
   "source": [
    "atom = pylcp.atom(\"41K\")\n",
    "omega = atom.transition[1].nu\n",
    "k = atom.transition[1].k\n",
    "isat = atom.transition[1].Isat\n",
    "gamma = atom.state[2].gamma\n",
    "mass = gamma * atom.mass / (hbar * (100. * k) ** 2)\n",
    "t_room = kb * 300. / (hbar * gamma)\n",
    "\n",
    "print(\"omega = %e\" % (omega))\n",
    "print(\"isat = %e\" % (isat))\n",
    "print(\"gamma = %e\" % (gamma))\n",
    "print(\"mass = %e\" % (mass))"
   ]
  },
  {
   "cell_type": "markdown",
   "id": "08a72086",
   "metadata": {},
   "source": [
    "### Hamiltonian"
   ]
  },
  {
   "cell_type": "code",
   "execution_count": 6,
   "id": "322db785",
   "metadata": {},
   "outputs": [],
   "source": [
    "def return_hamiltonian(delta):\n",
    "    \"\"\"\n",
    "    return hamiltonian for a two-level atom\n",
    "    with  a given transition frequency\n",
    "    \n",
    "    parameters:\n",
    "    delta - ?\n",
    "    \n",
    "    returns:\n",
    "    hamiltonian - pylcp hamiltonian object\n",
    "    \"\"\"\n",
    "    hg = np.array([[0.]])    \n",
    "    he = np.array([[-delta]])\n",
    "    mu_q = np.zeros((3, 1, 1))\n",
    "    d_q = np.zeros((3, 1, 1))\n",
    "    d_q[1, 0, 0] = 1.\n",
    "    return pylcp.hamiltonian(hg, he, mu_q, mu_q, d_q, mass=mass)"
   ]
  },
  {
   "cell_type": "markdown",
   "id": "21b14d20",
   "metadata": {},
   "source": [
    "### Lasers"
   ]
  },
  {
   "cell_type": "code",
   "execution_count": 7,
   "id": "4da67d91",
   "metadata": {},
   "outputs": [],
   "source": [
    "def return_lasers(delta, s):\n",
    "    return pylcp.conventional3DMOTBeams(\n",
    "        delta=delta, s=s,\n",
    "        beam_type=pylcp.infinitePlaneWaveBeam\n",
    "    )"
   ]
  },
  {
   "cell_type": "markdown",
   "id": "7bf8f11d",
   "metadata": {},
   "source": [
    "### Magentic field"
   ]
  },
  {
   "cell_type": "code",
   "execution_count": 8,
   "id": "bbbc3330",
   "metadata": {},
   "outputs": [],
   "source": [
    "alpha = 1e-4\n",
    "mag_field = pylcp.quadrupoleMagneticField(alpha)"
   ]
  },
  {
   "cell_type": "markdown",
   "id": "c79fa320",
   "metadata": {},
   "source": [
    "### Maxwell distribution sampling"
   ]
  },
  {
   "cell_type": "code",
   "execution_count": 9,
   "id": "63d5d9fe",
   "metadata": {},
   "outputs": [],
   "source": [
    "def sample_velocity(mass, temp):\n",
    "    # sample magnitude and spherical angles\n",
    "    x = stats.maxwell.rvs(size=1)\n",
    "    theta = np.pi * stats.uniform.rvs(size=1)\n",
    "    phi = 2. * np.pi * stats.uniform.rvs(size=1)\n",
    "    # convert to velocity value and return vector.\n",
    "    # return magnitude times unit vector.\n",
    "    v = sqrt(temp / mass) * np.array([\n",
    "        sin(theta) * cos(phi),\n",
    "        sin(theta) * sin(phi),\n",
    "        cos(theta)\n",
    "    ])\n",
    "    return v"
   ]
  },
  {
   "cell_type": "markdown",
   "id": "a1d4b3d4",
   "metadata": {},
   "source": [
    "### Single atom evolution"
   ]
  },
  {
   "cell_type": "code",
   "execution_count": 10,
   "id": "a010046d",
   "metadata": {},
   "outputs": [
    {
     "name": "stdout",
     "output_type": "stream",
     "text": [
      "Completed in 1.87 s.                                                 \n",
      "time elapsed: 1.883856\n"
     ]
    }
   ],
   "source": [
    "# define laser detuning in terms of gamma\n",
    "x = -2.\n",
    "# define intensity in terms of saturation value\n",
    "s = 3.\n",
    "\n",
    "# starting temperature in natural units\n",
    "t0 = kb * 300. / (hbar * gamma)\n",
    "\n",
    "# define evolution time in terms of lifetime\n",
    "t = 1000.\n",
    "\n",
    "hamiltonian = return_hamiltonian(0.)\n",
    "laser_beams = return_lasers(x, s)\n",
    "\n",
    "# create equations of motion and solve them.\n",
    "start_time = time.time()\n",
    "eqn = pylcp.rateeq(\n",
    "    laser_beams, mag_field, hamiltonian,\n",
    "    r0=np.zeros(3), v0=sample_velocity(mass, t0),\n",
    "    include_mag_forces=True\n",
    ")\n",
    "eqn.set_initial_pop_from_equilibrium()\n",
    "soln = eqn.evolve_motion(\n",
    "    [0, t], random_recoil=True,\n",
    "    progress_bar=True\n",
    ")\n",
    "end_time = time.time()\n",
    "\n",
    "print(\"time elapsed: %f\" % (end_time - start_time))"
   ]
  },
  {
   "cell_type": "code",
   "execution_count": 11,
   "id": "cdde7627",
   "metadata": {},
   "outputs": [
    {
     "name": "stdout",
     "output_type": "stream",
     "text": [
      "(3, 478)\n"
     ]
    },
    {
     "data": {
      "image/png": "[encoded data removed]",
      "text/plain": [
       "<Figure size 432x288 with 2 Axes>"
      ]
     },
     "metadata": {
      "needs_background": "light"
     },
     "output_type": "display_data"
    }
   ],
   "source": [
    "r = np.zeros(soln.r.shape[1])\n",
    "v = np.zeros(soln.v.shape[1])\n",
    "theta = np.zeros(soln.v.shape[1])\n",
    "phi = np.zeros(soln.v.shape[1])\n",
    "for i in range(3):\n",
    "    r += soln.r[i, :] ** 2\n",
    "    v += soln.v[i, :] ** 2\n",
    "r = np.sqrt(r)\n",
    "v = np.sqrt(v)\n",
    "\n",
    "fig_1atm, ax_1atm = plt.subplots(2, 1)\n",
    "ax_1atm[0].plot(soln.t, r, '-')\n",
    "ax_1atm[1].plot(soln.t, v, '-')\n",
    "print(soln.v.shape)"
   ]
  },
  {
   "cell_type": "markdown",
   "id": "47778a29",
   "metadata": {},
   "source": [
    "### Temperature"
   ]
  },
  {
   "cell_type": "code",
   "execution_count": 16,
   "id": "7d3e0e59",
   "metadata": {},
   "outputs": [],
   "source": [
    "def solve_ensemble(num_atoms, t_evol, temp, delta, s):\n",
    "    solns = []\n",
    "    hamiltonian = return_hamiltonian(0.)\n",
    "    laser_beams = return_lasers(delta, s)\n",
    "    \n",
    "    #progress = progressBar()\n",
    "    for i in range(num_atoms):\n",
    "        eqn = pylcp.rateeq(\n",
    "            laser_beams, mag_field, hamiltonian,\n",
    "            r0=np.zeros(3), v0=sample_velocity(mass, temp),\n",
    "            include_mag_forces=True\n",
    "        )\n",
    "        eqn.set_initial_pop_from_equilibrium()\n",
    "        soln = eqn.evolve_motion(\n",
    "            [0, t], random_recoil=True,\n",
    "            progress_bar=False\n",
    "        )\n",
    "        solns.append(soln)\n",
    "        #progress.update((i + 1) / num_atoms)\n",
    "    \n",
    "    return solns"
   ]
  },
  {
   "cell_type": "code",
   "execution_count": 13,
   "id": "8662cfb4",
   "metadata": {},
   "outputs": [],
   "source": [
    "#solns = solve_ensemble(100, 1000., t_room, -2.0, 3.0)"
   ]
  },
  {
   "cell_type": "code",
   "execution_count": 14,
   "id": "8831dc5f",
   "metadata": {},
   "outputs": [],
   "source": [
    "# final temperature\n",
    "def final_temp(solns):\n",
    "    v_rms_sq = 0. # square of final rms velocity\n",
    "    for i in range(100):\n",
    "        for j in range(3):\n",
    "            v_rms_sq += solns[i].v[j, -1] ** 2\n",
    "    v_rms_sq = v_rms_sq / len(solns)\n",
    "    temp = (1. / 3.) * mass * v_rms_sq\n",
    "    return temp"
   ]
  },
  {
   "cell_type": "code",
   "execution_count": 17,
   "id": "eeccd765",
   "metadata": {},
   "outputs": [
    {
     "name": "stdout",
     "output_type": "stream",
     "text": [
      "Progress: |██----------------------------| 6.7%; time left: 240:57:52\r"
     ]
    },
    {
     "ename": "KeyboardInterrupt",
     "evalue": "",
     "output_type": "error",
     "traceback": [
      "\u001b[0;31m---------------------------------------------------------------------------\u001b[0m",
      "\u001b[0;31mKeyboardInterrupt\u001b[0m                         Traceback (most recent call last)",
      "Input \u001b[0;32mIn [17]\u001b[0m, in \u001b[0;36m<cell line: 9>\u001b[0;34m()\u001b[0m\n\u001b[1;32m      9\u001b[0m \u001b[38;5;28;01mfor\u001b[39;00m i \u001b[38;5;129;01min\u001b[39;00m \u001b[38;5;28mrange\u001b[39m(s\u001b[38;5;241m.\u001b[39msize):\n\u001b[1;32m     10\u001b[0m     \u001b[38;5;28;01mfor\u001b[39;00m j \u001b[38;5;129;01min\u001b[39;00m \u001b[38;5;28mrange\u001b[39m(delta\u001b[38;5;241m.\u001b[39msize):\n\u001b[0;32m---> 11\u001b[0m         solns \u001b[38;5;241m=\u001b[39m \u001b[43msolve_ensemble\u001b[49m\u001b[43m(\u001b[49m\u001b[38;5;241;43m10000\u001b[39;49m\u001b[43m,\u001b[49m\u001b[43m \u001b[49m\u001b[38;5;241;43m1000.\u001b[39;49m\u001b[43m,\u001b[49m\u001b[43m \u001b[49m\u001b[43mt_room\u001b[49m\u001b[43m,\u001b[49m\u001b[43m \u001b[49m\u001b[43mdelta\u001b[49m\u001b[43m[\u001b[49m\u001b[43mj\u001b[49m\u001b[43m]\u001b[49m\u001b[43m,\u001b[49m\u001b[43m \u001b[49m\u001b[43ms\u001b[49m\u001b[43m[\u001b[49m\u001b[43mi\u001b[49m\u001b[43m]\u001b[49m\u001b[43m)\u001b[49m\n\u001b[1;32m     12\u001b[0m         final_t[i, j] \u001b[38;5;241m=\u001b[39m final_temp(solns)\n\u001b[1;32m     13\u001b[0m         progress\u001b[38;5;241m.\u001b[39mupdate(\u001b[38;5;28mfloat\u001b[39m(i \u001b[38;5;241m*\u001b[39m s\u001b[38;5;241m.\u001b[39msize \u001b[38;5;241m+\u001b[39m j) \u001b[38;5;241m/\u001b[39m \u001b[38;5;28mfloat\u001b[39m(s\u001b[38;5;241m.\u001b[39msize \u001b[38;5;241m*\u001b[39m delta\u001b[38;5;241m.\u001b[39msize))\n",
      "Input \u001b[0;32mIn [16]\u001b[0m, in \u001b[0;36msolve_ensemble\u001b[0;34m(num_atoms, t_evol, temp, delta, s)\u001b[0m\n\u001b[1;32m      8\u001b[0m eqn \u001b[38;5;241m=\u001b[39m pylcp\u001b[38;5;241m.\u001b[39mrateeq(\n\u001b[1;32m      9\u001b[0m     laser_beams, mag_field, hamiltonian,\n\u001b[1;32m     10\u001b[0m     r0\u001b[38;5;241m=\u001b[39mnp\u001b[38;5;241m.\u001b[39mzeros(\u001b[38;5;241m3\u001b[39m), v0\u001b[38;5;241m=\u001b[39msample_velocity(mass, temp),\n\u001b[1;32m     11\u001b[0m     include_mag_forces\u001b[38;5;241m=\u001b[39m\u001b[38;5;28;01mTrue\u001b[39;00m\n\u001b[1;32m     12\u001b[0m )\n\u001b[1;32m     13\u001b[0m eqn\u001b[38;5;241m.\u001b[39mset_initial_pop_from_equilibrium()\n\u001b[0;32m---> 14\u001b[0m soln \u001b[38;5;241m=\u001b[39m \u001b[43meqn\u001b[49m\u001b[38;5;241;43m.\u001b[39;49m\u001b[43mevolve_motion\u001b[49m\u001b[43m(\u001b[49m\n\u001b[1;32m     15\u001b[0m \u001b[43m    \u001b[49m\u001b[43m[\u001b[49m\u001b[38;5;241;43m0\u001b[39;49m\u001b[43m,\u001b[49m\u001b[43m \u001b[49m\u001b[43mt\u001b[49m\u001b[43m]\u001b[49m\u001b[43m,\u001b[49m\u001b[43m \u001b[49m\u001b[43mrandom_recoil\u001b[49m\u001b[38;5;241;43m=\u001b[39;49m\u001b[38;5;28;43;01mTrue\u001b[39;49;00m\u001b[43m,\u001b[49m\n\u001b[1;32m     16\u001b[0m \u001b[43m    \u001b[49m\u001b[43mprogress_bar\u001b[49m\u001b[38;5;241;43m=\u001b[39;49m\u001b[38;5;28;43;01mFalse\u001b[39;49;00m\n\u001b[1;32m     17\u001b[0m \u001b[43m\u001b[49m\u001b[43m)\u001b[49m\n\u001b[1;32m     18\u001b[0m solns\u001b[38;5;241m.\u001b[39mappend(soln)\n\u001b[1;32m     19\u001b[0m \u001b[38;5;66;03m#progress.update((i + 1) / num_atoms)\u001b[39;00m\n",
      "File \u001b[0;32m~/.py_venv/lcsim/lib/python3.10/site-packages/pylcp/rateeq.py:710\u001b[0m, in \u001b[0;36mrateeq.evolve_motion\u001b[0;34m(self, t_span, freeze_axis, random_recoil, random_force, max_scatter_probability, progress_bar, record_force, rng, **kwargs)\u001b[0m\n\u001b[1;32m    706\u001b[0m     \u001b[38;5;28mself\u001b[39m\u001b[38;5;241m.\u001b[39msol \u001b[38;5;241m=\u001b[39m solve_ivp_random(motion, random_force_func, t_span, y0,\n\u001b[1;32m    707\u001b[0m                                 initial_max_step\u001b[38;5;241m=\u001b[39mmax_scatter_probability,\n\u001b[1;32m    708\u001b[0m                                 \u001b[38;5;241m*\u001b[39m\u001b[38;5;241m*\u001b[39mkwargs)\n\u001b[1;32m    709\u001b[0m \u001b[38;5;28;01melif\u001b[39;00m random_recoil:\n\u001b[0;32m--> 710\u001b[0m     \u001b[38;5;28mself\u001b[39m\u001b[38;5;241m.\u001b[39msol \u001b[38;5;241m=\u001b[39m \u001b[43msolve_ivp_random\u001b[49m\u001b[43m(\u001b[49m\u001b[43mmotion\u001b[49m\u001b[43m,\u001b[49m\u001b[43m \u001b[49m\u001b[43mrandom_recoil_func\u001b[49m\u001b[43m,\u001b[49m\u001b[43m \u001b[49m\u001b[43mt_span\u001b[49m\u001b[43m,\u001b[49m\u001b[43m \u001b[49m\u001b[43my0\u001b[49m\u001b[43m,\u001b[49m\n\u001b[1;32m    711\u001b[0m \u001b[43m                                \u001b[49m\u001b[43minitial_max_step\u001b[49m\u001b[38;5;241;43m=\u001b[39;49m\u001b[43mmax_scatter_probability\u001b[49m\u001b[43m,\u001b[49m\n\u001b[1;32m    712\u001b[0m \u001b[43m                                \u001b[49m\u001b[38;5;241;43m*\u001b[39;49m\u001b[38;5;241;43m*\u001b[39;49m\u001b[43mkwargs\u001b[49m\u001b[43m)\u001b[49m\n\u001b[1;32m    713\u001b[0m \u001b[38;5;28;01melse\u001b[39;00m:\n\u001b[1;32m    714\u001b[0m     \u001b[38;5;28mself\u001b[39m\u001b[38;5;241m.\u001b[39msol \u001b[38;5;241m=\u001b[39m solve_ivp(motion, t_span, y0, \u001b[38;5;241m*\u001b[39m\u001b[38;5;241m*\u001b[39mkwargs)\n",
      "File \u001b[0;32m~/.py_venv/lcsim/lib/python3.10/site-packages/pylcp/integration_tools.py:591\u001b[0m, in \u001b[0;36msolve_ivp_random\u001b[0;34m(fun, random_func, t_span, y0, method, t_eval, dense_output, events, vectorized, args, **options)\u001b[0m\n\u001b[1;32m    589\u001b[0m status \u001b[38;5;241m=\u001b[39m \u001b[38;5;28;01mNone\u001b[39;00m\n\u001b[1;32m    590\u001b[0m \u001b[38;5;28;01mwhile\u001b[39;00m status \u001b[38;5;129;01mis\u001b[39;00m \u001b[38;5;28;01mNone\u001b[39;00m:\n\u001b[0;32m--> 591\u001b[0m     message \u001b[38;5;241m=\u001b[39m \u001b[43msolver\u001b[49m\u001b[38;5;241;43m.\u001b[39;49m\u001b[43mstep\u001b[49m\u001b[43m(\u001b[49m\u001b[43m)\u001b[49m\n\u001b[1;32m    593\u001b[0m     \u001b[38;5;28;01mif\u001b[39;00m solver\u001b[38;5;241m.\u001b[39mstatus \u001b[38;5;241m==\u001b[39m \u001b[38;5;124m'\u001b[39m\u001b[38;5;124mfinished\u001b[39m\u001b[38;5;124m'\u001b[39m:\n\u001b[1;32m    594\u001b[0m         status \u001b[38;5;241m=\u001b[39m \u001b[38;5;241m0\u001b[39m\n",
      "File \u001b[0;32m~/.py_venv/lcsim/lib/python3.10/site-packages/scipy/integrate/_ivp/base.py:181\u001b[0m, in \u001b[0;36mOdeSolver.step\u001b[0;34m(self)\u001b[0m\n\u001b[1;32m    179\u001b[0m \u001b[38;5;28;01melse\u001b[39;00m:\n\u001b[1;32m    180\u001b[0m     t \u001b[38;5;241m=\u001b[39m \u001b[38;5;28mself\u001b[39m\u001b[38;5;241m.\u001b[39mt\n\u001b[0;32m--> 181\u001b[0m     success, message \u001b[38;5;241m=\u001b[39m \u001b[38;5;28;43mself\u001b[39;49m\u001b[38;5;241;43m.\u001b[39;49m\u001b[43m_step_impl\u001b[49m\u001b[43m(\u001b[49m\u001b[43m)\u001b[49m\n\u001b[1;32m    183\u001b[0m     \u001b[38;5;28;01mif\u001b[39;00m \u001b[38;5;129;01mnot\u001b[39;00m success:\n\u001b[1;32m    184\u001b[0m         \u001b[38;5;28mself\u001b[39m\u001b[38;5;241m.\u001b[39mstatus \u001b[38;5;241m=\u001b[39m \u001b[38;5;124m'\u001b[39m\u001b[38;5;124mfailed\u001b[39m\u001b[38;5;124m'\u001b[39m\n",
      "File \u001b[0;32m~/.py_venv/lcsim/lib/python3.10/site-packages/scipy/integrate/_ivp/rk.py:144\u001b[0m, in \u001b[0;36mRungeKutta._step_impl\u001b[0;34m(self)\u001b[0m\n\u001b[1;32m    141\u001b[0m h \u001b[38;5;241m=\u001b[39m t_new \u001b[38;5;241m-\u001b[39m t\n\u001b[1;32m    142\u001b[0m h_abs \u001b[38;5;241m=\u001b[39m np\u001b[38;5;241m.\u001b[39mabs(h)\n\u001b[0;32m--> 144\u001b[0m y_new, f_new \u001b[38;5;241m=\u001b[39m \u001b[43mrk_step\u001b[49m\u001b[43m(\u001b[49m\u001b[38;5;28;43mself\u001b[39;49m\u001b[38;5;241;43m.\u001b[39;49m\u001b[43mfun\u001b[49m\u001b[43m,\u001b[49m\u001b[43m \u001b[49m\u001b[43mt\u001b[49m\u001b[43m,\u001b[49m\u001b[43m \u001b[49m\u001b[43my\u001b[49m\u001b[43m,\u001b[49m\u001b[43m \u001b[49m\u001b[38;5;28;43mself\u001b[39;49m\u001b[38;5;241;43m.\u001b[39;49m\u001b[43mf\u001b[49m\u001b[43m,\u001b[49m\u001b[43m \u001b[49m\u001b[43mh\u001b[49m\u001b[43m,\u001b[49m\u001b[43m \u001b[49m\u001b[38;5;28;43mself\u001b[39;49m\u001b[38;5;241;43m.\u001b[39;49m\u001b[43mA\u001b[49m\u001b[43m,\u001b[49m\n\u001b[1;32m    145\u001b[0m \u001b[43m                       \u001b[49m\u001b[38;5;28;43mself\u001b[39;49m\u001b[38;5;241;43m.\u001b[39;49m\u001b[43mB\u001b[49m\u001b[43m,\u001b[49m\u001b[43m \u001b[49m\u001b[38;5;28;43mself\u001b[39;49m\u001b[38;5;241;43m.\u001b[39;49m\u001b[43mC\u001b[49m\u001b[43m,\u001b[49m\u001b[43m \u001b[49m\u001b[38;5;28;43mself\u001b[39;49m\u001b[38;5;241;43m.\u001b[39;49m\u001b[43mK\u001b[49m\u001b[43m)\u001b[49m\n\u001b[1;32m    146\u001b[0m scale \u001b[38;5;241m=\u001b[39m atol \u001b[38;5;241m+\u001b[39m np\u001b[38;5;241m.\u001b[39mmaximum(np\u001b[38;5;241m.\u001b[39mabs(y), np\u001b[38;5;241m.\u001b[39mabs(y_new)) \u001b[38;5;241m*\u001b[39m rtol\n\u001b[1;32m    147\u001b[0m error_norm \u001b[38;5;241m=\u001b[39m \u001b[38;5;28mself\u001b[39m\u001b[38;5;241m.\u001b[39m_estimate_error_norm(\u001b[38;5;28mself\u001b[39m\u001b[38;5;241m.\u001b[39mK, h, scale)\n",
      "File \u001b[0;32m~/.py_venv/lcsim/lib/python3.10/site-packages/scipy/integrate/_ivp/rk.py:64\u001b[0m, in \u001b[0;36mrk_step\u001b[0;34m(fun, t, y, f, h, A, B, C, K)\u001b[0m\n\u001b[1;32m     62\u001b[0m \u001b[38;5;28;01mfor\u001b[39;00m s, (a, c) \u001b[38;5;129;01min\u001b[39;00m \u001b[38;5;28menumerate\u001b[39m(\u001b[38;5;28mzip\u001b[39m(A[\u001b[38;5;241m1\u001b[39m:], C[\u001b[38;5;241m1\u001b[39m:]), start\u001b[38;5;241m=\u001b[39m\u001b[38;5;241m1\u001b[39m):\n\u001b[1;32m     63\u001b[0m     dy \u001b[38;5;241m=\u001b[39m np\u001b[38;5;241m.\u001b[39mdot(K[:s]\u001b[38;5;241m.\u001b[39mT, a[:s]) \u001b[38;5;241m*\u001b[39m h\n\u001b[0;32m---> 64\u001b[0m     K[s] \u001b[38;5;241m=\u001b[39m \u001b[43mfun\u001b[49m\u001b[43m(\u001b[49m\u001b[43mt\u001b[49m\u001b[43m \u001b[49m\u001b[38;5;241;43m+\u001b[39;49m\u001b[43m \u001b[49m\u001b[43mc\u001b[49m\u001b[43m \u001b[49m\u001b[38;5;241;43m*\u001b[39;49m\u001b[43m \u001b[49m\u001b[43mh\u001b[49m\u001b[43m,\u001b[49m\u001b[43m \u001b[49m\u001b[43my\u001b[49m\u001b[43m \u001b[49m\u001b[38;5;241;43m+\u001b[39;49m\u001b[43m \u001b[49m\u001b[43mdy\u001b[49m\u001b[43m)\u001b[49m\n\u001b[1;32m     66\u001b[0m y_new \u001b[38;5;241m=\u001b[39m y \u001b[38;5;241m+\u001b[39m h \u001b[38;5;241m*\u001b[39m np\u001b[38;5;241m.\u001b[39mdot(K[:\u001b[38;5;241m-\u001b[39m\u001b[38;5;241m1\u001b[39m]\u001b[38;5;241m.\u001b[39mT, B)\n\u001b[1;32m     67\u001b[0m f_new \u001b[38;5;241m=\u001b[39m fun(t \u001b[38;5;241m+\u001b[39m h, y_new)\n",
      "File \u001b[0;32m~/.py_venv/lcsim/lib/python3.10/site-packages/scipy/integrate/_ivp/base.py:138\u001b[0m, in \u001b[0;36mOdeSolver.__init__.<locals>.fun\u001b[0;34m(t, y)\u001b[0m\n\u001b[1;32m    136\u001b[0m \u001b[38;5;28;01mdef\u001b[39;00m \u001b[38;5;21mfun\u001b[39m(t, y):\n\u001b[1;32m    137\u001b[0m     \u001b[38;5;28mself\u001b[39m\u001b[38;5;241m.\u001b[39mnfev \u001b[38;5;241m+\u001b[39m\u001b[38;5;241m=\u001b[39m \u001b[38;5;241m1\u001b[39m\n\u001b[0;32m--> 138\u001b[0m     \u001b[38;5;28;01mreturn\u001b[39;00m \u001b[38;5;28;43mself\u001b[39;49m\u001b[38;5;241;43m.\u001b[39;49m\u001b[43mfun_single\u001b[49m\u001b[43m(\u001b[49m\u001b[43mt\u001b[49m\u001b[43m,\u001b[49m\u001b[43m \u001b[49m\u001b[43my\u001b[49m\u001b[43m)\u001b[49m\n",
      "File \u001b[0;32m~/.py_venv/lcsim/lib/python3.10/site-packages/scipy/integrate/_ivp/base.py:20\u001b[0m, in \u001b[0;36mcheck_arguments.<locals>.fun_wrapped\u001b[0;34m(t, y)\u001b[0m\n\u001b[1;32m     19\u001b[0m \u001b[38;5;28;01mdef\u001b[39;00m \u001b[38;5;21mfun_wrapped\u001b[39m(t, y):\n\u001b[0;32m---> 20\u001b[0m     \u001b[38;5;28;01mreturn\u001b[39;00m np\u001b[38;5;241m.\u001b[39masarray(\u001b[43mfun\u001b[49m\u001b[43m(\u001b[49m\u001b[43mt\u001b[49m\u001b[43m,\u001b[49m\u001b[43m \u001b[49m\u001b[43my\u001b[49m\u001b[43m)\u001b[49m, dtype\u001b[38;5;241m=\u001b[39mdtype)\n",
      "File \u001b[0;32m~/.py_venv/lcsim/lib/python3.10/site-packages/pylcp/rateeq.py:615\u001b[0m, in \u001b[0;36mrateeq.evolve_motion.<locals>.motion\u001b[0;34m(t, y)\u001b[0m\n\u001b[1;32m    612\u001b[0m v \u001b[38;5;241m=\u001b[39m y[\u001b[38;5;241m-\u001b[39m\u001b[38;5;241m6\u001b[39m:\u001b[38;5;241m-\u001b[39m\u001b[38;5;241m3\u001b[39m]\n\u001b[1;32m    613\u001b[0m r \u001b[38;5;241m=\u001b[39m y[\u001b[38;5;241m-\u001b[39m\u001b[38;5;241m3\u001b[39m:]\n\u001b[0;32m--> 615\u001b[0m Rev, Rijl \u001b[38;5;241m=\u001b[39m \u001b[38;5;28;43mself\u001b[39;49m\u001b[38;5;241;43m.\u001b[39;49m\u001b[43mconstruct_evolution_matrix\u001b[49m\u001b[43m(\u001b[49m\u001b[43mr\u001b[49m\u001b[43m,\u001b[49m\u001b[43m \u001b[49m\u001b[43mv\u001b[49m\u001b[43m,\u001b[49m\u001b[43m \u001b[49m\u001b[43mt\u001b[49m\u001b[43m)\u001b[49m\n\u001b[1;32m    616\u001b[0m \u001b[38;5;28;01mif\u001b[39;00m \u001b[38;5;129;01mnot\u001b[39;00m random_force:\n\u001b[1;32m    617\u001b[0m     \u001b[38;5;28;01mif\u001b[39;00m record_force:\n",
      "File \u001b[0;32m~/.py_venv/lcsim/lib/python3.10/site-packages/pylcp/rateeq.py:332\u001b[0m, in \u001b[0;36mrateeq.construct_evolution_matrix\u001b[0;34m(self, r, v, t, default_axis)\u001b[0m\n\u001b[1;32m    329\u001b[0m \u001b[38;5;28mself\u001b[39m\u001b[38;5;241m.\u001b[39mRev \u001b[38;5;241m+\u001b[39m\u001b[38;5;241m=\u001b[39m \u001b[38;5;28mself\u001b[39m\u001b[38;5;241m.\u001b[39mRev_decay\n\u001b[1;32m    331\u001b[0m \u001b[38;5;66;03m# Recalculate the pumping rates:\u001b[39;00m\n\u001b[0;32m--> 332\u001b[0m Bhat \u001b[38;5;241m=\u001b[39m \u001b[38;5;28;43mself\u001b[39;49m\u001b[38;5;241;43m.\u001b[39;49m\u001b[43m_calc_pumping_rates\u001b[49m\u001b[43m(\u001b[49m\u001b[43mr\u001b[49m\u001b[43m,\u001b[49m\u001b[43m \u001b[49m\u001b[43mv\u001b[49m\u001b[43m,\u001b[49m\u001b[43m \u001b[49m\u001b[43mt\u001b[49m\u001b[43m,\u001b[49m\u001b[43m \u001b[49m\u001b[43mBhat\u001b[49m\u001b[43m)\u001b[49m\n\u001b[1;32m    334\u001b[0m \u001b[38;5;66;03m# Add the pumping rates to the evolution matrix:\u001b[39;00m\n\u001b[1;32m    335\u001b[0m \u001b[38;5;28mself\u001b[39m\u001b[38;5;241m.\u001b[39m_add_pumping_rates_to_Rev()\n",
      "File \u001b[0;32m~/.py_venv/lcsim/lib/python3.10/site-packages/pylcp/rateeq.py:264\u001b[0m, in \u001b[0;36mrateeq._calc_pumping_rates\u001b[0;34m(self, r, v, t, Bhat)\u001b[0m\n\u001b[1;32m    260\u001b[0m fijq \u001b[38;5;241m=\u001b[39m np\u001b[38;5;241m.\u001b[39mabs(d_q[\u001b[38;5;241m0\u001b[39m]\u001b[38;5;241m*\u001b[39mproj[\u001b[38;5;241m2\u001b[39m] \u001b[38;5;241m+\u001b[39m d_q[\u001b[38;5;241m1\u001b[39m]\u001b[38;5;241m*\u001b[39mproj[\u001b[38;5;241m1\u001b[39m] \u001b[38;5;241m+\u001b[39md_q[\u001b[38;5;241m2\u001b[39m]\u001b[38;5;241m*\u001b[39mproj[\u001b[38;5;241m0\u001b[39m])\u001b[38;5;241m*\u001b[39m\u001b[38;5;241m*\u001b[39m\u001b[38;5;241m2\u001b[39m\n\u001b[1;32m    262\u001b[0m \u001b[38;5;66;03m# Finally, calculate the scattering rate the polarization\u001b[39;00m\n\u001b[1;32m    263\u001b[0m \u001b[38;5;66;03m# onto the appropriate basis:\u001b[39;00m\n\u001b[0;32m--> 264\u001b[0m \u001b[38;5;28mself\u001b[39m\u001b[38;5;241m.\u001b[39mRijl[key][ll] \u001b[38;5;241m=\u001b[39m gamma\u001b[38;5;241m*\u001b[39mintensity\u001b[38;5;241m/\u001b[39m\u001b[38;5;241m2\u001b[39m\u001b[38;5;241m*\u001b[39m\\\n\u001b[1;32m    265\u001b[0m     fijq\u001b[38;5;241m/\u001b[39m(\u001b[38;5;241m1\u001b[39m \u001b[38;5;241m+\u001b[39m \u001b[38;5;241m4\u001b[39m\u001b[38;5;241m*\u001b[39m(\u001b[38;5;241m-\u001b[39m(E2 \u001b[38;5;241m-\u001b[39m E1) \u001b[38;5;241m+\u001b[39m delta \u001b[38;5;241m-\u001b[39m np\u001b[38;5;241m.\u001b[39mdot(kvec, v))\u001b[38;5;241m*\u001b[39m\u001b[38;5;241m*\u001b[39m\u001b[38;5;241m2\u001b[39m\u001b[38;5;241m/\u001b[39mgamma\u001b[38;5;241m*\u001b[39m\u001b[38;5;241m*\u001b[39m\u001b[38;5;241m2\u001b[39m)\n",
      "\u001b[0;31mKeyboardInterrupt\u001b[0m: "
     ]
    }
   ],
   "source": [
    "s = np.array([1, 5, 10]) \n",
    "delta = np.linspace(-7.0, 0.0, num=10)\n",
    "final_t = np.zeros((s.size, delta.size))\n",
    "\n",
    "# define doppler temperature as a comparison point\n",
    "t_doppler = 0.5\n",
    "\n",
    "progress = progressBar()\n",
    "for i in range(s.size):\n",
    "    for j in range(delta.size):\n",
    "        solns = solve_ensemble(10000, 1000., t_room, delta[j], s[i])\n",
    "        final_t[i, j] = final_temp(solns)\n",
    "        progress.update(float(i * s.size + j) / float(s.size * delta.size))\n",
    "\n",
    "linestyle = [\"o-g\", \"p-b\", \"v-k\"]\n",
    "fig_temp, ax_temp = plt.subplots()\n",
    "for i in range(s.size):\n",
    "    ax_temp.plot(delta, final_t[i, :] / t_doppler, \\\n",
    "                 label=string(s[i]))"
   ]
  },
  {
   "cell_type": "code",
   "execution_count": null,
   "id": "1d3ef303",
   "metadata": {},
   "outputs": [],
   "source": []
  }
 ],
 "metadata": {
  "kernelspec": {
   "display_name": "Python 3 (ipykernel)",
   "language": "python",
   "name": "python3"
  },
  "language_info": {
   "codemirror_mode": {
    "name": "ipython",
    "version": 3
   },
   "file_extension": ".py",
   "mimetype": "text/x-python",
   "name": "python",
   "nbconvert_exporter": "python",
   "pygments_lexer": "ipython3",
   "version": "3.10.4"
  }
 },
 "nbformat": 4,
 "nbformat_minor": 5
}
