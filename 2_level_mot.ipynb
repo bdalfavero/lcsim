{
 "cells": [
  {
   "cell_type": "code",
   "execution_count": 48,
   "id": "71372940",
   "metadata": {},
   "outputs": [],
   "source": [
    "import pylcp\n",
    "import numpy as np\n",
    "import matplotlib.pyplot as plt\n",
    "from pylcp.common import progressBar\n",
    "import scipy.stats as stats\n",
    "from scipy.constants import hbar\n",
    "from scipy.constants import k as kb\n",
    "from math import sqrt, cos, sin, exp\n",
    "import time"
   ]
  },
  {
   "cell_type": "markdown",
   "id": "dc6a3359",
   "metadata": {},
   "source": [
    "### Atomic parameters\n",
    "\n",
    "Get the properties of the atom we will use for this simulation."
   ]
  },
  {
   "cell_type": "code",
   "execution_count": 78,
   "id": "22052c8f",
   "metadata": {},
   "outputs": [
    {
     "name": "stdout",
     "output_type": "stream",
     "text": [
      "omega = 3.910164e+14\n",
      "isat = 1.750322e+00\n",
      "gamma = 3.792188e+07\n",
      "mass = 1.437784e+04\n"
     ]
    }
   ],
   "source": [
    "atom = pylcp.atom(\"41K\")\n",
    "omega = atom.transition[1].nu\n",
    "k = atom.transition[1].k\n",
    "isat = atom.transition[1].Isat\n",
    "gamma = atom.state[2].gamma\n",
    "mass = gamma * atom.mass / (hbar * (100. * k) ** 2)\n",
    "t_room = kb * 300. / (hbar * gamma)\n",
    "\n",
    "print(\"omega = %e\" % (omega))\n",
    "print(\"isat = %e\" % (isat))\n",
    "print(\"gamma = %e\" % (gamma))\n",
    "print(\"mass = %e\" % (mass))"
   ]
  },
  {
   "cell_type": "markdown",
   "id": "08a72086",
   "metadata": {},
   "source": [
    "### Hamiltonian"
   ]
  },
  {
   "cell_type": "code",
   "execution_count": 50,
   "id": "322db785",
   "metadata": {},
   "outputs": [],
   "source": [
    "def return_hamiltonian(delta):\n",
    "    \"\"\"\n",
    "    return hamiltonian for a two-level atom\n",
    "    with  a given transition frequency\n",
    "    \n",
    "    parameters:\n",
    "    delta - ?\n",
    "    \n",
    "    returns:\n",
    "    hamiltonian - pylcp hamiltonian object\n",
    "    \"\"\"\n",
    "    hg = np.array([[0.]])    \n",
    "    he = np.array([[-delta]])\n",
    "    mu_q = np.zeros((3, 1, 1))\n",
    "    d_q = np.zeros((3, 1, 1))\n",
    "    d_q[1, 0, 0] = 1.\n",
    "    return pylcp.hamiltonian(hg, he, mu_q, mu_q, d_q, mass=mass)"
   ]
  },
  {
   "cell_type": "markdown",
   "id": "21b14d20",
   "metadata": {},
   "source": [
    "### Lasers"
   ]
  },
  {
   "cell_type": "code",
   "execution_count": 51,
   "id": "4da67d91",
   "metadata": {},
   "outputs": [],
   "source": [
    "def return_lasers(delta, s):\n",
    "    return pylcp.conventional3DMOTBeams(\n",
    "        delta=delta, s=s,\n",
    "        beam_type=pylcp.infinitePlaneWaveBeam\n",
    "    )"
   ]
  },
  {
   "cell_type": "markdown",
   "id": "7bf8f11d",
   "metadata": {},
   "source": [
    "### Magentic field"
   ]
  },
  {
   "cell_type": "code",
   "execution_count": 52,
   "id": "bbbc3330",
   "metadata": {},
   "outputs": [],
   "source": [
    "alpha = 1e-4\n",
    "mag_field = pylcp.quadrupoleMagneticField(alpha)"
   ]
  },
  {
   "cell_type": "markdown",
   "id": "c79fa320",
   "metadata": {},
   "source": [
    "### Maxwell distribution sampling"
   ]
  },
  {
   "cell_type": "code",
   "execution_count": 53,
   "id": "63d5d9fe",
   "metadata": {},
   "outputs": [],
   "source": [
    "def sample_velocity(mass, temp):\n",
    "    # sample magnitude and spherical angles\n",
    "    x = stats.maxwell.rvs(size=1)\n",
    "    theta = np.pi * stats.uniform.rvs(size=1)\n",
    "    phi = 2. * np.pi * stats.uniform.rvs(size=1)\n",
    "    # convert to velocity value and return vector.\n",
    "    # return magnitude times unit vector.\n",
    "    v = sqrt(temp / mass) * np.array([\n",
    "        sin(theta) * cos(phi),\n",
    "        sin(theta) * sin(phi),\n",
    "        cos(theta)\n",
    "    ])\n",
    "    return v"
   ]
  },
  {
   "cell_type": "markdown",
   "id": "a1d4b3d4",
   "metadata": {},
   "source": [
    "### Single atom evolution"
   ]
  },
  {
   "cell_type": "code",
   "execution_count": 73,
   "id": "a010046d",
   "metadata": {},
   "outputs": [
    {
     "name": "stdout",
     "output_type": "stream",
     "text": [
      "Completed in 10.00 s.                                                \n",
      "time elapsed: 10.005094\n"
     ]
    }
   ],
   "source": [
    "# define laser detuning in terms of gamma\n",
    "x = -2.\n",
    "# define intensity in terms of saturation value\n",
    "s = 3.\n",
    "\n",
    "# starting temperature in natural units\n",
    "t0 = kb * 300. / (hbar * gamma)\n",
    "\n",
    "# define evolution time in terms of lifetime\n",
    "t = 1000.\n",
    "\n",
    "hamiltonian = return_hamiltonian(0.)\n",
    "laser_beams = return_lasers(x, s)\n",
    "\n",
    "# create equations of motion and solve them.\n",
    "start_time = time.time()\n",
    "eqn = pylcp.rateeq(\n",
    "    laser_beams, mag_field, hamiltonian,\n",
    "    r0=np.zeros(3), v0=sample_velocity(mass, t0),\n",
    "    include_mag_forces=True\n",
    ")\n",
    "eqn.set_initial_pop_from_equilibrium()\n",
    "soln = eqn.evolve_motion(\n",
    "    [0, t], random_recoil=True,\n",
    "    progress_bar=True\n",
    ")\n",
    "end_time = time.time()\n",
    "\n",
    "print(\"time elapsed: %f\" % (end_time - start_time))"
   ]
  },
  {
   "cell_type": "code",
   "execution_count": 75,
   "id": "cdde7627",
   "metadata": {},
   "outputs": [
    {
     "name": "stdout",
     "output_type": "stream",
     "text": [
      "(3, 2482)\n"
     ]
    },
    {
     "data": {
      "image/png": "[encoded data removed]",
      "text/plain": [
       "<Figure size 432x288 with 2 Axes>"
      ]
     },
     "metadata": {
      "needs_background": "light"
     },
     "output_type": "display_data"
    }
   ],
   "source": [
    "r = np.zeros(soln.r.shape[1])\n",
    "v = np.zeros(soln.v.shape[1])\n",
    "theta = np.zeros(soln.v.shape[1])\n",
    "phi = np.zeros(soln.v.shape[1])\n",
    "for i in range(3):\n",
    "    r += soln.r[i, :] ** 2\n",
    "    v += soln.v[i, :] ** 2\n",
    "r = np.sqrt(r)\n",
    "v = np.sqrt(v)\n",
    "\n",
    "fig_1atm, ax_1atm = plt.subplots(2, 1)\n",
    "ax_1atm[0].plot(soln.t, r, '-')\n",
    "ax_1atm[1].plot(soln.t, v, '-')\n",
    "print(soln.v.shape)"
   ]
  },
  {
   "cell_type": "markdown",
   "id": "47778a29",
   "metadata": {},
   "source": [
    "### Temperature"
   ]
  },
  {
   "cell_type": "code",
   "execution_count": 83,
   "id": "7d3e0e59",
   "metadata": {},
   "outputs": [],
   "source": [
    "def solve_ensemble(num_atoms, t_evol, temp, delta, s):\n",
    "    solns = []\n",
    "    hamiltonian = return_hamiltonian(0.)\n",
    "    laser_beams = return_lasers(delta, s)\n",
    "    \n",
    "    progress = progressBar()\n",
    "    for i in range(num_atoms):\n",
    "        eqn = pylcp.rateeq(\n",
    "            laser_beams, mag_field, hamiltonian,\n",
    "            r0=np.zeros(3), v0=sample_velocity(mass, temp),\n",
    "            include_mag_forces=True\n",
    "        )\n",
    "        eqn.set_initial_pop_from_equilibrium()\n",
    "        soln = eqn.evolve_motion(\n",
    "            [0, t], random_recoil=True,\n",
    "            progress_bar=False\n",
    "        )\n",
    "        solns.append(soln)\n",
    "        progress.update((i + 1) / num_atoms)\n",
    "    \n",
    "    return solns"
   ]
  },
  {
   "cell_type": "code",
   "execution_count": 94,
   "id": "8662cfb4",
   "metadata": {},
   "outputs": [
    {
     "name": "stdout",
     "output_type": "stream",
     "text": [
      "Completed in 12:29.                                                 \n"
     ]
    }
   ],
   "source": [
    "solns = solve_ensemble(100, 1000., t_room, -2.0, 3.0)"
   ]
  },
  {
   "cell_type": "code",
   "execution_count": 93,
   "id": "8831dc5f",
   "metadata": {},
   "outputs": [
    {
     "name": "stdout",
     "output_type": "stream",
     "text": [
      "final temperature 0.333212 in units of room temp\n"
     ]
    }
   ],
   "source": [
    "# final temperature\n",
    "\n",
    "v_rms_sq = 0. # square of final rms velocity\n",
    "for i in range(100):\n",
    "    for j in range(3):\n",
    "        v_rms_sq += solns[i].v[j, -1] ** 2\n",
    "v_rms_sq = v_rms_sq / 100\n",
    "temp = (1. / 3.) * mass * v_rms_sq\n",
    "print(\"final temperature %f in units of room temp\" % (temp / t_room))"
   ]
  },
  {
   "cell_type": "code",
   "execution_count": null,
   "id": "eeccd765",
   "metadata": {},
   "outputs": [],
   "source": []
  }
 ],
 "metadata": {
  "kernelspec": {
   "display_name": "Python 3 (ipykernel)",
   "language": "python",
   "name": "python3"
  },
  "language_info": {
   "codemirror_mode": {
    "name": "ipython",
    "version": 3
   },
   "file_extension": ".py",
   "mimetype": "text/x-python",
   "name": "python",
   "nbconvert_exporter": "python",
   "pygments_lexer": "ipython3",
   "version": "3.10.4"
  }
 },
 "nbformat": 4,
 "nbformat_minor": 5
}
