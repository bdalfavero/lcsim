{
 "cells": [
  {
   "cell_type": "code",
   "execution_count": 12,
   "id": "b99c658a",
   "metadata": {},
   "outputs": [],
   "source": [
    "import numpy as np\n",
    "import pylcp\n",
    "import matplotlib.pyplot as plt\n",
    "import scipy.stats as stat\n",
    "from math import sqrt"
   ]
  },
  {
   "cell_type": "markdown",
   "id": "2da23c46",
   "metadata": {},
   "source": [
    "### Hamiltonian"
   ]
  },
  {
   "cell_type": "code",
   "execution_count": 3,
   "id": "20eef4dd",
   "metadata": {},
   "outputs": [],
   "source": [
    "atom = pylcp.atom(\"41K\")"
   ]
  },
  {
   "cell_type": "code",
   "execution_count": 4,
   "id": "fd890a0d",
   "metadata": {},
   "outputs": [],
   "source": [
    "H_g_D2, mu_q_g_D2 = pylcp.hamiltonians.hyperfine_coupled(\n",
    "    atom.state[0].J, atom.I, atom.state[0].gJ, atom.gI,\n",
    "    atom.state[0].Ahfs/atom.state[2].gammaHz, Bhfs=0, Chfs=0,\n",
    "    muB=1)\n",
    "H_e_D2, mu_q_e_D2 = pylcp.hamiltonians.hyperfine_coupled(\n",
    "    atom.state[2].J, atom.I, atom.state[2].gJ, atom.gI,\n",
    "    Ahfs=atom.state[2].Ahfs/atom.state[2].gammaHz,\n",
    "    Bhfs=atom.state[2].Bhfs/atom.state[2].gammaHz, Chfs=0,\n",
    "    muB=1)\n",
    "\n",
    "dijq_D2 = pylcp.hamiltonians.dqij_two_hyperfine_manifolds(\n",
    "    atom.state[0].J, atom.state[2].J, atom.I)\n",
    "\n",
    "E_e_D2 = np.unique(np.diagonal(H_e_D2))\n",
    "E_g_D2 = np.unique(np.diagonal(H_g_D2))\n",
    "\n",
    "hamiltonian_D2 = pylcp.hamiltonian(H_g_D2, H_e_D2, mu_q_g_D2, mu_q_e_D2, dijq_D2)\n",
    "hamiltonian_D2.set_mass(atom.mass)"
   ]
  },
  {
   "cell_type": "code",
   "execution_count": 5,
   "id": "e2089e9d",
   "metadata": {},
   "outputs": [
    {
     "name": "stdout",
     "output_type": "stream",
     "text": [
      "[[((<g|H_0|g> 8x8), (<g|mu_q|g> 8x8)) (<g|d_q|e> 8x16)]\n",
      " [(<e|d_q|g> 16x8) ((<e|H_0|e> 16x16), (<e|mu_q|e> 16x16))]]\n"
     ]
    }
   ],
   "source": [
    "hamiltonian_D2.print_structure()"
   ]
  },
  {
   "cell_type": "markdown",
   "id": "613b6c91",
   "metadata": {},
   "source": [
    "### Beams"
   ]
  },
  {
   "cell_type": "code",
   "execution_count": 6,
   "id": "7344ead9",
   "metadata": {},
   "outputs": [],
   "source": [
    "# beam parameters\n",
    "s = 1.0 # intensity\n",
    "det = -0.0 # detuning\n",
    "alpha = 1.0"
   ]
  },
  {
   "cell_type": "code",
   "execution_count": 7,
   "id": "e02fde06",
   "metadata": {},
   "outputs": [],
   "source": [
    "laserBeams_cooling_D2 = pylcp.conventional3DMOTBeams(\n",
    "    s=s, delta=(E_e_D2[0] - E_g_D2[1]) + det)\n",
    "laserBeams_repump_D2 = pylcp.conventional3DMOTBeams(\n",
    "    s=s, delta=(E_e_D2[1] - E_g_D2[0]) + det)\n",
    "laserBeams_D2 = laserBeams_cooling_D2 + laserBeams_repump_D2"
   ]
  },
  {
   "cell_type": "markdown",
   "id": "d13cf73a",
   "metadata": {},
   "source": [
    "### Magnetic field"
   ]
  },
  {
   "cell_type": "code",
   "execution_count": 8,
   "id": "ecba93c4",
   "metadata": {},
   "outputs": [],
   "source": [
    "magField = pylcp.quadrupoleMagneticField(alpha)"
   ]
  },
  {
   "cell_type": "markdown",
   "id": "3a3c8caf",
   "metadata": {},
   "source": [
    "### Force Profile"
   ]
  },
  {
   "cell_type": "code",
   "execution_count": 9,
   "id": "1b1ec2ab",
   "metadata": {},
   "outputs": [],
   "source": [
    "x = np.arange(-5, 5.1, 0.2)\n",
    "v = np.arange(-5, 5.1, 0.2)\n",
    "\n",
    "dx = np.mean(np.diff(x))\n",
    "dv = np.mean(np.diff(v))\n",
    "\n",
    "X, V = np.meshgrid(x, v)\n",
    "\n",
    "# Define the trap:\n",
    "trap_D2 = pylcp.rateeq(\n",
    "    laserBeams_D2, magField, hamiltonian_D2,\n",
    "    include_mag_forces=False\n",
    ")\n",
    "trap_D2.generate_force_profile(\n",
    "    [np.zeros(X.shape), np.zeros(X.shape), X],\n",
    "    [np.zeros(V.shape), np.zeros(V.shape), V],\n",
    "    name='Fz')\n",
    "FzK_D2 = trap_D2.profile['Fz'].F[2]"
   ]
  },
  {
   "cell_type": "code",
   "execution_count": 10,
   "id": "9605a5f1",
   "metadata": {},
   "outputs": [
    {
     "data": {
      "text/plain": [
       "[<matplotlib.lines.Line2D at 0x12d28a760>]"
      ]
     },
     "execution_count": 10,
     "metadata": {},
     "output_type": "execute_result"
    },
    {
     "data": {
      "image/png": "[encoded data removed]",
      "text/plain": [
       "<Figure size 432x288 with 2 Axes>"
      ]
     },
     "metadata": {
      "needs_background": "light"
     },
     "output_type": "display_data"
    }
   ],
   "source": [
    "fig_fp, ax_fp = plt.subplots(2, 1)\n",
    "ax_fp[0].imshow(FzK_D2, origin='lower')\n",
    "ax_fp[1].plot(X[int(X.shape[0]/2), :],\n",
    "              FzK_D2[int(X.shape[0]/2), :])"
   ]
  },
  {
   "cell_type": "markdown",
   "id": "67e6465d",
   "metadata": {},
   "source": [
    "### Temperature simulation\n",
    "\n",
    "Simulate many atoms to get the temperature. Use the Maxwell-Boltzmann distribution for the initial velocities."
   ]
  },
  {
   "cell_type": "code",
   "execution_count": null,
   "id": "32a62d6c",
   "metadata": {},
   "outputs": [],
   "source": [
    "n_atom = 10\n",
    "t = 1e-4 # evolution time\n",
    "t0 = 300 # initial temp in kelvin\n",
    "k = 1.38e-23\n",
    "solns = [] # list of solutions to rate eq'ns\n",
    "\n",
    "# sample velocity values from M-B dist\n",
    "# also sample polar/azimuthal angles uniformly\n",
    "x = stat.maxwell.rvs(size=n_atom) # maxwell-boltzmann parameter\n",
    "phi = 2 * np.pi * stat.uniform.rvs(size=n_atom)\n",
    "theta = np.pi * stat.uniform.rvs(size=n_atom)\n",
    "\n",
    "# convert x to v by x = sqrt(m/kT) v\n",
    "# in f(v) d^3v = (m/2Pi*kT)^(3/2) exp(-mv^2/kT) d^3v\n",
    "v = sqrt(k * t0 / atom.mass) * x\n",
    "\n",
    "for i in range(n_atom):\n",
    "    \n",
    "    # find intial position and velocity\n",
    "    v0 = v[i] * np.array(\n",
    "        [np.cos(phi[i]) * np.cos(theta[i]),\n",
    "         np.cos(phi[i]) * np.sin(theta[i]),\n",
    "         np.sin(phi[i])])\n",
    "    x0 = np.zeros(3)\n",
    "    # set up eq'n object\n",
    "    eqn = pylcp.rateeq(\n",
    "        laserBeams_D2, magField, hamiltonian_D2,\n",
    "        include_mag_forces=True\n",
    "    )\n",
    "    eqn.set_initial_position_and_velocity(x0, v0)\n",
    "    eqn.set_initial_pop_from_equilibrium()\n",
    "    solns.append(eqn.evolve_motion(\n",
    "        [0, t], freeze_axis=[False, False, False],\n",
    "        random_recoil=False, random_force=False\n",
    "    ))"
   ]
  },
  {
   "cell_type": "code",
   "execution_count": null,
   "id": "2caba10a",
   "metadata": {},
   "outputs": [],
   "source": []
  }
 ],
 "metadata": {
  "kernelspec": {
   "display_name": "Python 3 (ipykernel)",
   "language": "python",
   "name": "python3"
  },
  "language_info": {
   "codemirror_mode": {
    "name": "ipython",
    "version": 3
   },
   "file_extension": ".py",
   "mimetype": "text/x-python",
   "name": "python",
   "nbconvert_exporter": "python",
   "pygments_lexer": "ipython3",
   "version": "3.9.12"
  }
 },
 "nbformat": 4,
 "nbformat_minor": 5
}
